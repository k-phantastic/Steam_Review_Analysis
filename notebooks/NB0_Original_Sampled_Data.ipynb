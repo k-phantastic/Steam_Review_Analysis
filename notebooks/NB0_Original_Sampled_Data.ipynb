{
 "cells": [
  {
   "cell_type": "code",
   "execution_count": null,
   "id": "a10ef321",
   "metadata": {},
   "outputs": [],
   "source": [
    "#!pip install -r ../requirements.txt"
   ]
  },
  {
   "cell_type": "code",
   "execution_count": 11,
   "id": "4d402453",
   "metadata": {},
   "outputs": [],
   "source": [
    "import pandas as pd\n",
    "import random"
   ]
  },
  {
   "cell_type": "markdown",
   "id": "13d7e048",
   "metadata": {},
   "source": [
    "Sampling main data file"
   ]
  },
  {
   "cell_type": "code",
   "execution_count": 16,
   "id": "3a5aca5a",
   "metadata": {},
   "outputs": [],
   "source": [
    "path = \"all_reviews.csv\" # Change accordingly if original file saved to different area\n",
    "total_rows = 113885601 \n",
    "sample_size = 100001 # 100000 rows of data sample, including header\n",
    "\n",
    "# Randomly pick rows to skip (excluding the header)\n",
    "skip = sorted(random.sample(range(1, total_rows), total_rows - sample_size))"
   ]
  },
  {
   "cell_type": "code",
   "execution_count": 17,
   "id": "5486ac23",
   "metadata": {},
   "outputs": [
    {
     "name": "stderr",
     "output_type": "stream",
     "text": [
      "C:\\Users\\Khanh Phan\\AppData\\Local\\Temp\\ipykernel_25640\\1396566689.py:2: DtypeWarning: Columns (23) have mixed types. Specify dtype option on import or set low_memory=False.\n",
      "  sampled = pd.read_csv(path, skiprows=skip)\n"
     ]
    }
   ],
   "source": [
    "# Read only the sampled rows\n",
    "sampled = pd.read_csv(path, skiprows=skip)\n",
    "sampled.to_csv(\"resources/data/all_reviews_100000_sample.csv\", index=False)\n"
   ]
  },
  {
   "cell_type": "markdown",
   "id": "14aa28d2",
   "metadata": {},
   "source": [
    "Repeated: Sampling the included pre-filtered data"
   ]
  },
  {
   "cell_type": "code",
   "execution_count": 12,
   "id": "c343a5ad",
   "metadata": {},
   "outputs": [],
   "source": [
    "path = \"../weighted_score_above_08.csv\" # Change accordingly if original file saved to different area\n",
    "total_rows = 498095 \n",
    "sample_size = 50001 # 50000 rows of data sample, including header\n",
    "\n",
    "# Randomly pick rows to skip (excluding the header)\n",
    "skip = sorted(random.sample(range(1, total_rows), total_rows - sample_size))"
   ]
  },
  {
   "cell_type": "code",
   "execution_count": 15,
   "id": "8a882208",
   "metadata": {},
   "outputs": [
    {
     "name": "stderr",
     "output_type": "stream",
     "text": [
      "C:\\Users\\Khanh Phan\\AppData\\Local\\Temp\\ipykernel_25640\\1825770620.py:2: DtypeWarning: Columns (23) have mixed types. Specify dtype option on import or set low_memory=False.\n",
      "  sampled = pd.read_csv(path, skiprows=skip)\n"
     ]
    }
   ],
   "source": [
    "# Read only the sampled rows\n",
    "sampled = pd.read_csv(path, skiprows=skip)\n",
    "sampled.to_csv(\"resources/data/weighted_score_above_08_50000_sample.csv\", index=False)\n"
   ]
  }
 ],
 "metadata": {
  "kernelspec": {
   "display_name": "Python 3",
   "language": "python",
   "name": "python3"
  },
  "language_info": {
   "codemirror_mode": {
    "name": "ipython",
    "version": 3
   },
   "file_extension": ".py",
   "mimetype": "text/x-python",
   "name": "python",
   "nbconvert_exporter": "python",
   "pygments_lexer": "ipython3",
   "version": "3.10.16"
  }
 },
 "nbformat": 4,
 "nbformat_minor": 5
}
