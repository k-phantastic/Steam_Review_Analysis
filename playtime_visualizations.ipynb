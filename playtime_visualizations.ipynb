{
 "cells": [
  {
   "cell_type": "code",
   "execution_count": null,
   "id": "5e8e41d8",
   "metadata": {},
   "outputs": [],
   "source": [
    "from pyspark.sql import SparkSession\n",
    "import numpy as np\n",
    "import pyspark.sql.functions as F\n",
    "import matplotlib.pyplot as plt\n",
    "import pandas as pd\n",
    "import seaborn as sns"
   ]
  },
  {
   "cell_type": "code",
   "execution_count": null,
   "id": "e848aaf8",
   "metadata": {},
   "outputs": [],
   "source": [
    "spark = SparkSession.builder\\\n",
    "    .config(\"spark.driver.memory\", \"8g\")\\\n",
    "    .config(\"spark.executor.memory\", \"4g\")\\\n",
    "    .config(\"spark.executor.instances\", 18)\\\n",
    "    .getOrCreate()"
   ]
  },
  {
   "cell_type": "code",
   "execution_count": null,
   "id": "116f889a",
   "metadata": {},
   "outputs": [],
   "source": [
    "# dir = \"resources/data/all_reviews_100000_sample.csv\"\n",
    "df_cleaned = spark.read.csv(dir, header=True, inferSchema=True)\n",
    "\n",
    "# Show df\n",
    "df_cleaned.show(10)"
   ]
  },
  {
   "cell_type": "code",
   "execution_count": null,
   "id": "a307578f",
   "metadata": {},
   "outputs": [],
   "source": [
    "# Bar graph which games have the most play time (of reviews)\n",
    "\n",
    "# Looking to represent playtime statistics for each game\n",
    "\n",
    "total_playtimes = (\n",
    "    df_cleaned.groupBy(\"game\")\n",
    "    .agg(F.sum(\"author_playtime_at_review\").alias(\"Total Reviewer Playtime (At time of review)\"), F.count(\"*\").alias(\"Review Count\"))\n",
    "    .withColumn(\"Average Playtime Per Review\", F.round(F.col(\"Total Reviewer Playtime (At time of review)\") / F.col(\"Review Count\")))\n",
    ")\n",
    "\n",
    "total_playtimes.show()"
   ]
  },
  {
   "cell_type": "code",
   "execution_count": null,
   "id": "4bbe208f",
   "metadata": {},
   "outputs": [],
   "source": [
    "# Conversion of aggregated table to Pandas for visualization\n",
    "top_10_reviewer_playtimes_df = total_playtimes.orderBy(F.col(\"Total Reviewer Playtime (At time of review)\").desc()).limit(10).toPandas()\n",
    "top_10_review_count_df = total_playtimes.orderBy(F.col(\"Review Count\").desc()).limit(10).toPandas()"
   ]
  },
  {
   "cell_type": "code",
   "execution_count": null,
   "id": "2cfab9d6",
   "metadata": {},
   "outputs": [],
   "source": [
    "top_10_reviewer_playtimes_df"
   ]
  },
  {
   "cell_type": "code",
   "execution_count": null,
   "id": "c6b2b652",
   "metadata": {},
   "outputs": [],
   "source": [
    "top_10_review_count_df"
   ]
  },
  {
   "cell_type": "code",
   "execution_count": null,
   "id": "19907ef3",
   "metadata": {},
   "outputs": [],
   "source": [
    "# Bargraph of top 10 games with the most total playtime per reviewer, top 10 games with most reviews\n",
    "# Omitting stats on average playtime per review as would be skewed towards games with fewer reviews\n",
    "\n",
    "fig, axes = plt.subplots(2,1,figsize = (6,12))\n",
    "\n",
    "# Plot 1: Top 10 games with the most total playtime per reviewer\n",
    "sns.barplot(\n",
    "    y = top_10_reviewer_playtimes_df[\"game\"],\n",
    "    x = top_10_reviewer_playtimes_df[\"Total Reviewer Playtime (At time of review)\"],\n",
    "    ax = axes[0],\n",
    "    palette = \"rocket\",\n",
    "    orient = \"h\"\n",
    ")\n",
    "axes[0].set_title(\"Top 10 Games with Highest Playtime of Reviewers\")\n",
    "axes[0].set_ylabel(\"Game Title\")\n",
    "axes[0].set_xlabel(\"Playtime (Hours)\")\n",
    "for container in axes[0].containers:\n",
    "  axes[0].bar_label(container, fmt='%.1f')\n",
    "\n",
    "# Plot 2: Top 10 games with most reviews\n",
    "sns.barplot(\n",
    "    y = top_10_review_count_df[\"game\"],\n",
    "    x = top_10_review_count_df[\"Review Count\"],\n",
    "    ax = axes[1],\n",
    "    palette = \"rocket\", \n",
    "    orient = \"h\"\n",
    ")\n",
    "axes[1].set_title(\"Top 10 Games with the Most Reviews\")\n",
    "axes[1].set_ylabel(\"Game Title\")\n",
    "axes[1].set_xlabel(\"Review Count\")\n",
    "for container in axes[1].containers:\n",
    "  axes[1].bar_label(container, fmt='%.1f')\n",
    "\n",
    "plt.show()"
   ]
  },
  {
   "cell_type": "markdown",
   "id": "5098c808",
   "metadata": {},
   "source": [
    "## Visualizations - Scatter Plots"
   ]
  },
  {
   "cell_type": "code",
   "execution_count": null,
   "id": "61d5068a",
   "metadata": {},
   "outputs": [],
   "source": [
    "# Curious to see if there is a pattern regarding playtime and weighted vote score\n",
    "\n",
    "playtime_votescore_df = df_cleaned.select(\"weighted_vote_score\", \"author_playtime_at_review\").toPandas()"
   ]
  },
  {
   "cell_type": "code",
   "execution_count": null,
   "id": "44cd4790",
   "metadata": {},
   "outputs": [],
   "source": [
    "sns.scatterplot(\n",
    "    data = playtime_votescore_df,\n",
    "    y = \"weighted_vote_score\",\n",
    "    x = \"author_playtime_at_review\"\n",
    ")\n",
    "\n",
    "plt.title(\"Scatterplot of Author Playtime at Review vs Weighted Vote Score\")\n",
    "plt.ylabel(\"Weighted Vote Score (Steam metric)\")\n",
    "plt.xlabel(\"Author Playtime At Review (hours)\")\n",
    "\n",
    "plt.show()"
   ]
  }
 ],
 "metadata": {
  "language_info": {
   "name": "python"
  }
 },
 "nbformat": 4,
 "nbformat_minor": 5
}
