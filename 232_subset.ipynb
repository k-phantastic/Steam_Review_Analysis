{
 "cells": [
  {
   "cell_type": "code",
   "execution_count": 1,
   "metadata": {
    "colab": {
     "base_uri": "https://localhost:8080/"
    },
    "id": "p0AxSS4x1v-W",
    "outputId": "28971845-d9bb-4029-fb5b-bd53b2d3f997"
   },
   "outputs": [],
   "source": [
    "# !pip install pyspark"
   ]
  },
  {
   "cell_type": "code",
   "execution_count": 2,
   "metadata": {},
   "outputs": [],
   "source": [
    "from pyspark.sql import SparkSession\n",
    "import numpy as np\n",
    "import pyspark.sql.functions as F\n",
    "import pandas as pd"
   ]
  },
  {
   "cell_type": "code",
   "execution_count": 3,
   "metadata": {
    "id": "CR-jx5VA2PAy"
   },
   "outputs": [],
   "source": [
    "# Run this cell if running locally\n",
    "\n",
    "# spark = SparkSession.builder.master(\"local[*]\").getOrCreate()"
   ]
  },
  {
   "cell_type": "code",
   "execution_count": 4,
   "metadata": {},
   "outputs": [],
   "source": [
    "# Run this cell for SDSC at 60 gb per node, 30 cores. \n",
    "\n",
    "# spark = SparkSession.builder\\\n",
    "#     .config(\"spark.driver.memory\", \"4g\")\\\n",
    "#     .config(\"spark.executor.memory\", \"4g\")\\\n",
    "#     .config(\"spark.executor.instances\", 14)\\\n",
    "#     .getOrCreate()"
   ]
  },
  {
   "cell_type": "code",
   "execution_count": 5,
   "metadata": {},
   "outputs": [],
   "source": [
    "# Run this cell for SDSC at 80 gb per node, 30 cores. \n",
    "\n",
    "spark = SparkSession.builder\\\n",
    "    .config(\"spark.driver.memory\", \"8g\")\\\n",
    "    .config(\"spark.executor.memory\", \"4g\")\\\n",
    "    .config(\"spark.executor.instances\", 18)\\\n",
    "    .getOrCreate()"
   ]
  },
  {
   "cell_type": "code",
   "execution_count": 6,
   "metadata": {
    "colab": {
     "base_uri": "https://localhost:8080/",
     "height": 216
    },
    "id": "px1nzs2W2ban",
    "outputId": "e9f5d702-974a-44d0-f903-636ca139c70c"
   },
   "outputs": [
    {
     "data": {
      "text/html": [
       "\n",
       "            <div>\n",
       "                <p><b>SparkSession - in-memory</b></p>\n",
       "                \n",
       "        <div>\n",
       "            <p><b>SparkContext</b></p>\n",
       "\n",
       "            <p><a href=\"http://exp-3-08.expanse.sdsc.edu:4040\">Spark UI</a></p>\n",
       "\n",
       "            <dl>\n",
       "              <dt>Version</dt>\n",
       "                <dd><code>v3.5.0</code></dd>\n",
       "              <dt>Master</dt>\n",
       "                <dd><code>local[*]</code></dd>\n",
       "              <dt>AppName</dt>\n",
       "                <dd><code>pyspark-shell</code></dd>\n",
       "            </dl>\n",
       "        </div>\n",
       "        \n",
       "            </div>\n",
       "        "
      ],
      "text/plain": [
       "<pyspark.sql.session.SparkSession at 0x155527e926d0>"
      ]
     },
     "execution_count": 6,
     "metadata": {},
     "output_type": "execute_result"
    }
   ],
   "source": [
    "spark"
   ]
  },
  {
   "cell_type": "code",
   "execution_count": 7,
   "metadata": {
    "colab": {
     "base_uri": "https://localhost:8080/"
    },
    "id": "kognYuOr3Dp1",
    "outputId": "2f823ba7-8813-47bd-f708-8d91ac66a140"
   },
   "outputs": [
    {
     "name": "stdout",
     "output_type": "stream",
     "text": [
      "+----------------+-----+--------------+-----------------+----------------------+------------------+-----------------------+------------------------------+-------------------------+------------------+--------+----------------------------------+-----------------+-----------------+--------+--------+-----------+-------------------+-------------+--------------+-----------------+---------------------------+---------------------+--------------------+\n",
      "|recommendationid|appid|          game|   author_steamid|author_num_games_owned|author_num_reviews|author_playtime_forever|author_playtime_last_two_weeks|author_playtime_at_review|author_last_played|language|                            review|timestamp_created|timestamp_updated|voted_up|votes_up|votes_funny|weighted_vote_score|comment_count|steam_purchase|received_for_free|written_during_early_access|hidden_in_steam_china|steam_china_location|\n",
      "+----------------+-----+--------------+-----------------+----------------------+------------------+-----------------------+------------------------------+-------------------------+------------------+--------+----------------------------------+-----------------+-----------------+--------+--------+-----------+-------------------+-------------+--------------+-----------------+---------------------------+---------------------+--------------------+\n",
      "|       148919893|   10|Counter-Strike|76561199036724879|                     0|                 3|                    197|                           197|                      197|        1698336369| russian|                          старость|       1698336397|       1698336397|       1|       0|          0|                0.0|            0|             1|                0|                          0|                    1|                NULL|\n",
      "|       148919350|   10|Counter-Strike|76561198826729322|                     0|                21|                    441|                            37|                      441|        1698335809| russian|                        Лучше кс 2|       1698335821|       1698335821|       1|       0|          0|                0.0|            0|             1|                0|                          0|                    1|                NULL|\n",
      "|       148913051|   10|Counter-Strike|76561199101237625|                     7|                 1|                   1440|                          1440|                     1313|        1698338635| turkish|                çoh iyi ama pahalı|       1698329862|       1698329862|       1|       0|          0|                0.0|            0|             1|                0|                          0|                    1|                NULL|\n",
      "|       148912714|   10|Counter-Strike|76561198347582422|                    11|                 4|                   1636|                            83|                     1612|        1698341834| russian|                               топ|       1698329555|       1698329555|       1|       0|          0|                0.0|            0|             1|                0|                          0|                    1|                NULL|\n",
      "|       148912575|   10|Counter-Strike|76561198363716821|                     0|                 2|                    197|                            41|                      197|        1698329401| english|                      GOAT Game !!|       1698329419|       1698329419|       1|       0|          0|                0.0|            0|             1|                0|                          0|                    1|                NULL|\n",
      "|       148906148|   10|Counter-Strike|76561198198293481|                    22|                 2|                   1685|                            70|                     1649|        1698323046| russian|                               топ|       1698321840|       1698321840|       1|       0|          0|                0.0|            0|             1|                0|                          0|                    1|                NULL|\n",
      "|       148905699|   10|Counter-Strike|76561198820122182|                    88|                39|                     11|                             0|                       11|        1695752100| turkish|              eskisi kadar sarm...|       1698321259|       1698321259|       1|       0|          0|                0.0|            0|             0|                0|                          0|                    1|                NULL|\n",
      "|       148900627|   10|Counter-Strike|76561198346217916|                     0|                 2|                  45119|                           503|                    45119|        1698157431| russian|                         Идеальная|       1698314419|       1698314419|       1|       0|          0|                0.0|            0|             1|                0|                          0|                    1|                NULL|\n",
      "|       148899121|   10|Counter-Strike|76561199143791757|                     9|                 4|                   1271|                           973|                     1202|        1698338304| russian|                               топ|       1698312060|       1698312060|       1|       0|          0|                0.0|            0|             1|                0|                          0|                    1|                NULL|\n",
      "|       148898785|   10|Counter-Strike|76561198853145449|                   491|                60|                    721|                             0|                      721|        1660831719|schinese|史上最优秀的fps游戏，众多国产游...|       1698311451|       1698311451|       1|       0|          0|                0.0|            0|             1|                0|                          0|                    1|                NULL|\n",
      "+----------------+-----+--------------+-----------------+----------------------+------------------+-----------------------+------------------------------+-------------------------+------------------+--------+----------------------------------+-----------------+-----------------+--------+--------+-----------+-------------------+-------------+--------------+-----------------+---------------------------+---------------------+--------------------+\n",
      "only showing top 10 rows\n",
      "\n"
     ]
    }
   ],
   "source": [
    "# Load CSV into Spark DataFrame\n",
    "\n",
    "# Cluster Directory: \"/home/kphan/kphan/data/all_reviews/all_reviews.csv\"\n",
    "dir = \"/home/kphan/kphan/data/all_reviews/all_reviews.csv\"\n",
    "\n",
    "#dir = \"resources/data/all_reviews_100000_sample.csv\"\n",
    "df = spark.read.csv(dir, header=True, inferSchema=True)\n",
    "\n",
    "# Show df\n",
    "df.show(10)"
   ]
  },
  {
   "cell_type": "code",
   "execution_count": 8,
   "metadata": {},
   "outputs": [
    {
     "name": "stdout",
     "output_type": "stream",
     "text": [
      "Columns in Original Dataframe:\n",
      "\n",
      "['recommendationid', 'appid', 'game', 'author_steamid', 'author_num_games_owned', 'author_num_reviews', 'author_playtime_forever', 'author_playtime_last_two_weeks', 'author_playtime_at_review', 'author_last_played', 'language', 'review', 'timestamp_created', 'timestamp_updated', 'voted_up', 'votes_up', 'votes_funny', 'weighted_vote_score', 'comment_count', 'steam_purchase', 'received_for_free', 'written_during_early_access', 'hidden_in_steam_china', 'steam_china_location']\n",
      "\n",
      "+-------+-------------------+------------------+-----------------+--------------------+----------------------+--------------------+-----------------------+------------------------------+-------------------------+--------------------+--------------------+--------------------+--------------------+--------------------+--------------------+--------------------+--------------------+---------------------------+--------------------+--------------------+--------------------+---------------------------+---------------------+--------------------+\n",
      "|summary|   recommendationid|             appid|             game|      author_steamid|author_num_games_owned|  author_num_reviews|author_playtime_forever|author_playtime_last_two_weeks|author_playtime_at_review|  author_last_played|            language|              review|   timestamp_created|   timestamp_updated|            voted_up|            votes_up|         votes_funny|        weighted_vote_score|       comment_count|      steam_purchase|   received_for_free|written_during_early_access|hidden_in_steam_china|steam_china_location|\n",
      "+-------+-------------------+------------------+-----------------+--------------------+----------------------+--------------------+-----------------------+------------------------------+-------------------------+--------------------+--------------------+--------------------+--------------------+--------------------+--------------------+--------------------+--------------------+---------------------------+--------------------+--------------------+--------------------+---------------------------+---------------------+--------------------+\n",
      "|  count|          113885601|         113884803|        113879433|           113884568|             113884527|           113884508|              113884483|                     113884474|                113884478|           113884467|           113884472|           113884472|           113862430|           113860884|           113859834|           113862731|           113860756|                  113860542|           113863612|           113862037|           113861721|                  113862989|            113861481|             2936123|\n",
      "|   mean|8.188166549337943E7|  618053.022047506|         Infinity|7.656072111359969...|  6.386607786502288E10|4.094129317422006E11|     15573.124561131472|             116.1800823591411|        7129.382843315977|1.6117792636415563E9| 6.338635759875081E7|                 NaN|1.5928308092020984E9|                 NaN|1.2760971390487963E7|            Infinity|                 NaN|                        NaN|  4468198.9668098865|   3698696.551384594|            Infinity|         2680851.6084080627|    2309597.019371901|            Infinity|\n",
      "| stddev|4.068681098880418E7|3269910.2443273566|              NaN|1.911638268615716E14|  6.992609924114422E13|1.770451278415101E14|      496019.5376433503|            218722.14813122994|       227509.99698184672| 2.158452262195042E8| 3.172777011110923E8|                 NaN|  8.03158627200747E7|                 NaN| 1.546254087184048E8|                 NaN|                 NaN|                        NaN|  8.37050874027386E7| 7.617123207391019E7|                 NaN|        6.487852064892918E7| 6.0231712764779024E7|                 NaN|\n",
      "|    min|                   |                  |             `=X*|   \"\"A Man's Dream\"\"|   \"\"The Rivalry of...| I notice there i...|    ...) and paranor...|           I knew that no m...|           even freedom.\"| ...). During the...| birds blackening...|\u0001\u0001\u0001\u0001\u0001\u0001\u0001\u0001\u0001\u0001\u0001\u0001\u0001\u0001\u0001\u0001\u0001...|\u00015\u0001I\u0001T\u0001\\\u0001h\u0001t\u0001¤\u0001²\u0001...|\u0003єK§ЦNв¶Ѓ\u000eGЋЈУќ\u000e`...|\u0005ëþ‹­¿]ûô‚ÒÙ Ì=Ú‡...|\u0001    \u0010\u001bµé»7…Ößµ?...|\\t[/i] \\t[i]\"\"its...|\u0003篕еN舛?G帲訚\u000e`\u0010骇蠓]F癨...|\\t[/spoiler] [spo...|\u0003ºK§ÖNâ¶\u000eG£Ó\u000e`...|\u0010чН…^h\u001e",
      "lлј©Wa–\u000eѓ®...|       \\t  6  Можно найт...| \\t[/b] напишу для...|\u0004b\u001fL£•U\u000f\u000f&5<Ì\u001c",
      "ÇÁ®...|\n",
      "|    max|      👎👎👎👎👎👎\"|            게임성|🧠 OUT OF THE BOX|               也爽\"|  я за все 3 игры с...|а тут настала...к...|                 999998|          ожидая эпичную ко...|                    99999|вот с Депонией та...|          vietnamese|󰀐󰀐󰀐󰀐󰀐󰀐󰀐󰀐?...|🔥\"\"Hunt Or Be Hu...|🤑🤑 Кыял учат жа...|🤑🤑 Кыймыл менен...|🤑🤑 Кыргызыма жа...|🤑🤑 Бирин калбай...|       🤑🤑🤑🤑 Мыны минтип|💡 если врагов по...|    🤑🤑 Мыны минтип|     ﾚ′　　 ヽ　　　|           🤑🤑 Мыны минтип| 👀 _____888bbdd88...|    🤑🤑 Мыны минтип|\n",
      "+-------+-------------------+------------------+-----------------+--------------------+----------------------+--------------------+-----------------------+------------------------------+-------------------------+--------------------+--------------------+--------------------+--------------------+--------------------+--------------------+--------------------+--------------------+---------------------------+--------------------+--------------------+--------------------+---------------------------+---------------------+--------------------+\n",
      "\n"
     ]
    }
   ],
   "source": [
    "# List out the columns for ease of view\n",
    "print(f\"Columns in Original Dataframe:\\n\\n{df.columns}\\n\")\n",
    "\n",
    "df.describe().show()\n"
   ]
  },
  {
   "cell_type": "code",
   "execution_count": 9,
   "metadata": {},
   "outputs": [
    {
     "data": {
      "text/plain": [
       "113885601"
      ]
     },
     "execution_count": 9,
     "metadata": {},
     "output_type": "execute_result"
    }
   ],
   "source": [
    "df.count()"
   ]
  },
  {
   "cell_type": "code",
   "execution_count": 10,
   "metadata": {},
   "outputs": [
    {
     "name": "stdout",
     "output_type": "stream",
     "text": [
      "+----------------+-------+--------------------+--------------------+----------------------+------------------+-----------------------+------------------------------+-------------------------+------------------+--------+----------+-----------------+--------------------+----------+----------+-----------+-------------------+-------------+-----------------+-----------------+---------------------------+---------------------+--------------------+\n",
      "|recommendationid|  appid|                game|      author_steamid|author_num_games_owned|author_num_reviews|author_playtime_forever|author_playtime_last_two_weeks|author_playtime_at_review|author_last_played|language|    review|timestamp_created|   timestamp_updated|  voted_up|  votes_up|votes_funny|weighted_vote_score|comment_count|   steam_purchase|received_for_free|written_during_early_access|hidden_in_steam_china|steam_china_location|\n",
      "+----------------+-------+--------------------+--------------------+----------------------+------------------+-----------------------+------------------------------+-------------------------+------------------+--------+----------+-----------------+--------------------+----------+----------+-----------+-------------------+-------------+-----------------+-----------------+---------------------------+---------------------+--------------------+\n",
      "|       144385593|2348100|\"YEAH! YOU WANT \"...|\"\" RIGHT? SO HERE...|   LET'S SEE YOU CL...| 76561198083008659|                      0|                            30|                      128|                 0|      22|1692594710|          english|⠀⠀⠀⠀⠀⠀⠀⠀⠀⠀⠀⠀⠀⠀⠀⠀⠀...|1692249593|1692249593|          1|                  2|            2|0.516746401786804|                0|                          1|                    0|                   0|\n",
      "+----------------+-------+--------------------+--------------------+----------------------+------------------+-----------------------+------------------------------+-------------------------+------------------+--------+----------+-----------------+--------------------+----------+----------+-----------+-------------------+-------------+-----------------+-----------------+---------------------------+---------------------+--------------------+\n",
      "\n"
     ]
    }
   ],
   "source": [
    "# Example of problematic row\n",
    "df.filter(df.recommendationid == 144385593).show()"
   ]
  },
  {
   "cell_type": "markdown",
   "metadata": {},
   "source": [
    "## Initial Data Cleanup / Feature Engineering"
   ]
  },
  {
   "cell_type": "code",
   "execution_count": 11,
   "metadata": {},
   "outputs": [
    {
     "name": "stdout",
     "output_type": "stream",
     "text": [
      "root\n",
      " |-- recommendationid: string (nullable = true)\n",
      " |-- appid: string (nullable = true)\n",
      " |-- game: string (nullable = true)\n",
      " |-- author_steamid: string (nullable = true)\n",
      " |-- author_num_games_owned: string (nullable = true)\n",
      " |-- author_num_reviews: string (nullable = true)\n",
      " |-- author_playtime_forever: string (nullable = true)\n",
      " |-- author_playtime_last_two_weeks: string (nullable = true)\n",
      " |-- author_playtime_at_review: string (nullable = true)\n",
      " |-- author_last_played: string (nullable = true)\n",
      " |-- language: string (nullable = true)\n",
      " |-- review: string (nullable = true)\n",
      " |-- timestamp_created: string (nullable = true)\n",
      " |-- timestamp_updated: string (nullable = true)\n",
      " |-- voted_up: string (nullable = true)\n",
      " |-- votes_up: string (nullable = true)\n",
      " |-- votes_funny: string (nullable = true)\n",
      " |-- weighted_vote_score: string (nullable = true)\n",
      " |-- comment_count: string (nullable = true)\n",
      " |-- steam_purchase: string (nullable = true)\n",
      " |-- received_for_free: string (nullable = true)\n",
      " |-- written_during_early_access: string (nullable = true)\n",
      " |-- hidden_in_steam_china: string (nullable = true)\n",
      " |-- steam_china_location: string (nullable = true)\n",
      "\n"
     ]
    }
   ],
   "source": [
    "# Show data types\n",
    "\n",
    "df.printSchema()"
   ]
  },
  {
   "cell_type": "code",
   "execution_count": 12,
   "metadata": {
    "colab": {
     "base_uri": "https://localhost:8080/"
    },
    "id": "fR2ZtCPy599A",
    "outputId": "8741170b-e8bf-4131-fb64-8b898f5643aa"
   },
   "outputs": [
    {
     "name": "stdout",
     "output_type": "stream",
     "text": [
      "+----------------+-----+--------------+-----------------+----------------------+------------------+-----------------------+------------------------------+-------------------------+------------------+--------+-----------------+-----------------+--------+--------+-----------+-------------------+-------------+--------------+-----------------+---------------------------+\n",
      "|recommendationid|appid|          game|   author_steamid|author_num_games_owned|author_num_reviews|author_playtime_forever|author_playtime_last_two_weeks|author_playtime_at_review|author_last_played|language|timestamp_created|timestamp_updated|voted_up|votes_up|votes_funny|weighted_vote_score|comment_count|steam_purchase|received_for_free|written_during_early_access|\n",
      "+----------------+-----+--------------+-----------------+----------------------+------------------+-----------------------+------------------------------+-------------------------+------------------+--------+-----------------+-----------------+--------+--------+-----------+-------------------+-------------+--------------+-----------------+---------------------------+\n",
      "|       148919893|   10|Counter-Strike|76561199036724879|                     0|                 3|                    197|                           197|                      197|        1698336369| russian|       1698336397|       1698336397|       1|       0|          0|                0.0|            0|             1|                0|                          0|\n",
      "|       148919350|   10|Counter-Strike|76561198826729322|                     0|                21|                    441|                            37|                      441|        1698335809| russian|       1698335821|       1698335821|       1|       0|          0|                0.0|            0|             1|                0|                          0|\n",
      "|       148913051|   10|Counter-Strike|76561199101237625|                     7|                 1|                   1440|                          1440|                     1313|        1698338635| turkish|       1698329862|       1698329862|       1|       0|          0|                0.0|            0|             1|                0|                          0|\n",
      "|       148912714|   10|Counter-Strike|76561198347582422|                    11|                 4|                   1636|                            83|                     1612|        1698341834| russian|       1698329555|       1698329555|       1|       0|          0|                0.0|            0|             1|                0|                          0|\n",
      "|       148912575|   10|Counter-Strike|76561198363716821|                     0|                 2|                    197|                            41|                      197|        1698329401| english|       1698329419|       1698329419|       1|       0|          0|                0.0|            0|             1|                0|                          0|\n",
      "|       148906148|   10|Counter-Strike|76561198198293481|                    22|                 2|                   1685|                            70|                     1649|        1698323046| russian|       1698321840|       1698321840|       1|       0|          0|                0.0|            0|             1|                0|                          0|\n",
      "|       148905699|   10|Counter-Strike|76561198820122182|                    88|                39|                     11|                             0|                       11|        1695752100| turkish|       1698321259|       1698321259|       1|       0|          0|                0.0|            0|             0|                0|                          0|\n",
      "|       148900627|   10|Counter-Strike|76561198346217916|                     0|                 2|                  45119|                           503|                    45119|        1698157431| russian|       1698314419|       1698314419|       1|       0|          0|                0.0|            0|             1|                0|                          0|\n",
      "|       148899121|   10|Counter-Strike|76561199143791757|                     9|                 4|                   1271|                           973|                     1202|        1698338304| russian|       1698312060|       1698312060|       1|       0|          0|                0.0|            0|             1|                0|                          0|\n",
      "|       148898785|   10|Counter-Strike|76561198853145449|                   491|                60|                    721|                             0|                      721|        1660831719|schinese|       1698311451|       1698311451|       1|       0|          0|                0.0|            0|             1|                0|                          0|\n",
      "+----------------+-----+--------------+-----------------+----------------------+------------------+-----------------------+------------------------------+-------------------------+------------------+--------+-----------------+-----------------+--------+--------+-----------+-------------------+-------------+--------------+-----------------+---------------------------+\n",
      "only showing top 10 rows\n",
      "\n"
     ]
    }
   ],
   "source": [
    "# Drop multiple columns not being used for study\n",
    "\n",
    "# Dropping review column as content will not be evaluated (not exploring NLP in this case)\n",
    "df_cleaned = df.drop(\"steam_china_location\", \"hidden_in_steam_china\", \"review\")\n",
    "\n",
    "# Show the updated DataFrame\n",
    "df_cleaned.show(10)"
   ]
  },
  {
   "cell_type": "code",
   "execution_count": 13,
   "metadata": {
    "colab": {
     "base_uri": "https://localhost:8080/"
    },
    "id": "8SYk0lDD4nNP",
    "outputId": "bf2ba44c-8d55-4702-dad8-605e69794af7"
   },
   "outputs": [
    {
     "name": "stdout",
     "output_type": "stream",
     "text": [
      "+-------+-------------------+\n",
      "|summary|weighted_vote_score|\n",
      "+-------+-------------------+\n",
      "|  count|           38597045|\n",
      "|   mean|                NaN|\n",
      "| stddev|                NaN|\n",
      "|    min|       0.0013244302|\n",
      "|    25%|         0.48704663|\n",
      "|    50%|          0.5217391|\n",
      "|    75%|         0.53051645|\n",
      "|    max|                NaN|\n",
      "+-------+-------------------+\n",
      "\n",
      "+----------------+-----+--------------+-----------------+----------------------+------------------+-----------------------+------------------------------+-------------------------+------------------+---------+-----------------+-----------------+--------+--------+-----------+-------------------+-------------+--------------+-----------------+---------------------------+\n",
      "|recommendationid|appid|          game|   author_steamid|author_num_games_owned|author_num_reviews|author_playtime_forever|author_playtime_last_two_weeks|author_playtime_at_review|author_last_played| language|timestamp_created|timestamp_updated|voted_up|votes_up|votes_funny|weighted_vote_score|comment_count|steam_purchase|received_for_free|written_during_early_access|\n",
      "+----------------+-----+--------------+-----------------+----------------------+------------------+-----------------------+------------------------------+-------------------------+------------------+---------+-----------------+-----------------+--------+--------+-----------+-------------------+-------------+--------------+-----------------+---------------------------+\n",
      "|       148868716|   10|Counter-Strike|76561199488029638|                     0|                 1|                    411|                           230|                      407|        1698276226|  spanish|       1698261406|       1698261406|       1|       0|          0|         0.47619048|            0|             1|                0|                          0|\n",
      "|       148868089|   10|Counter-Strike|76561197966981490|                     0|                 1|                 163455|                            91|                   163455|        1698238558|brazilian|       1698260592|       1698260592|       1|       1|          0|         0.52380955|            0|             0|                0|                          0|\n",
      "|       148862089|   10|Counter-Strike|76561199479067349|                     5|                 6|                    209|                           200|                      209|        1697757761|  english|       1698253394|       1698253394|       1|       1|          0|         0.52380955|            0|             1|                0|                          0|\n",
      "|       148855799|   10|Counter-Strike|76561199093126476|                    44|                 3|                    396|                             0|                      396|        1695646111|  russian|       1698246469|       1698246469|       1|       1|          0|          0.5070422|            0|             1|                0|                          0|\n",
      "|       148855322|   10|Counter-Strike|76561199245208154|                     7|                 4|                    670|                           583|                      616|        1698249857|  russian|       1698245959|       1698245959|       1|       1|          0|          0.5070422|            0|             0|                0|                          0|\n",
      "|       148852243|   10|Counter-Strike|76561198411629175|                    11|                 2|                   3106|                             0|                     3106|        1684517984|  russian|       1698242601|       1698242601|       1|       1|          0|          0.5070422|            0|             1|                0|                          0|\n",
      "|       148851019|   10|Counter-Strike|76561198143459823|                   116|                 1|                     63|                            12|                       63|        1698099183|  english|       1698241327|       1698241327|       0|       4|          0|         0.53697985|            0|             1|                0|                          0|\n",
      "|       148850672|   10|Counter-Strike|76561198354806113|                    10|                 2|                   3394|                           232|                     3260|        1698337627|  english|       1698240929|       1698240929|       0|       0|          0|         0.43650794|            0|             1|                0|                          0|\n",
      "|       148848260|   10|Counter-Strike|76561198124399443|                     8|                 3|                    952|                             6|                      952|        1697995912|  russian|       1698237896|       1698237896|       1|       1|          0|          0.5070422|            0|             1|                0|                          0|\n",
      "|       148844981|   10|Counter-Strike|76561199160832303|                     0|                16|                    285|                            31|                      285|        1698233831|  russian|       1698233857|       1698233857|       0|       1|          0|          0.5070422|            0|             1|                0|                          0|\n",
      "+----------------+-----+--------------+-----------------+----------------------+------------------+-----------------------+------------------------------+-------------------------+------------------+---------+-----------------+-----------------+--------+--------+-----------+-------------------+-------------+--------------+-----------------+---------------------------+\n",
      "only showing top 10 rows\n",
      "\n"
     ]
    }
   ],
   "source": [
    "# Only use reviews in which the weighted vote score is greater than zero\n",
    "\n",
    "# Convert column to float\n",
    "df_cleaned = df_cleaned.withColumn(\"weighted_vote_score\", F.col(\"weighted_vote_score\").cast(\"float\"))\n",
    "\n",
    "# Then filter\n",
    "df_cleaned = df_cleaned.filter(F.col(\"weighted_vote_score\") > 0)\n",
    "df_cleaned.select(\"weighted_vote_score\").summary().show()\n",
    "df_cleaned.show(10)"
   ]
  },
  {
   "cell_type": "code",
   "execution_count": 14,
   "metadata": {},
   "outputs": [],
   "source": [
    "# Convert necessary columns to correct type\n",
    "\n",
    "columns_to_int = [\"recommendationid\", \"appid\", \"author_num_games_owned\", \"author_num_reviews\", \"author_playtime_forever\", \"author_playtime_last_two_weeks\", \"voted_up\", \"votes_up\", \"votes_funny\", \"comment_count\", \"steam_purchase\", \"received_for_free\", \"written_during_early_access\"]\n",
    "for column in columns_to_int: \n",
    "    df_cleaned = df_cleaned.withColumn(column, F.col(column).cast(\"int\"))\n",
    "\n",
    "columns_to_long = [\"author_steamid\", \"timestamp_created\", \"timestamp_updated\"]\n",
    "for column in columns_to_long: \n",
    "    df_cleaned = df_cleaned.withColumn(column, F.col(column).cast(\"long\"))\n"
   ]
  },
  {
   "cell_type": "code",
   "execution_count": 15,
   "metadata": {},
   "outputs": [
    {
     "name": "stdout",
     "output_type": "stream",
     "text": [
      "root\n",
      " |-- recommendationid: integer (nullable = true)\n",
      " |-- appid: integer (nullable = true)\n",
      " |-- game: string (nullable = true)\n",
      " |-- author_steamid: long (nullable = true)\n",
      " |-- author_num_games_owned: integer (nullable = true)\n",
      " |-- author_num_reviews: integer (nullable = true)\n",
      " |-- author_playtime_forever: integer (nullable = true)\n",
      " |-- author_playtime_last_two_weeks: integer (nullable = true)\n",
      " |-- author_playtime_at_review: string (nullable = true)\n",
      " |-- author_last_played: string (nullable = true)\n",
      " |-- language: string (nullable = true)\n",
      " |-- timestamp_created: long (nullable = true)\n",
      " |-- timestamp_updated: long (nullable = true)\n",
      " |-- voted_up: integer (nullable = true)\n",
      " |-- votes_up: integer (nullable = true)\n",
      " |-- votes_funny: integer (nullable = true)\n",
      " |-- weighted_vote_score: float (nullable = true)\n",
      " |-- comment_count: integer (nullable = true)\n",
      " |-- steam_purchase: integer (nullable = true)\n",
      " |-- received_for_free: integer (nullable = true)\n",
      " |-- written_during_early_access: integer (nullable = true)\n",
      "\n"
     ]
    },
    {
     "data": {
      "text/plain": [
       "38597045"
      ]
     },
     "execution_count": 15,
     "metadata": {},
     "output_type": "execute_result"
    }
   ],
   "source": [
    "# Confirm changed schema\n",
    "df_cleaned.printSchema()\n",
    "df_cleaned.count()"
   ]
  },
  {
   "cell_type": "code",
   "execution_count": 16,
   "metadata": {},
   "outputs": [
    {
     "data": {
      "text/plain": [
       "37708777"
      ]
     },
     "execution_count": 16,
     "metadata": {},
     "output_type": "execute_result"
    }
   ],
   "source": [
    "# Remove rows caused by incorrect data type\n",
    "df_cleaned = df_cleaned.dropna(subset = [\"recommendationid\", \"appid\", \"author_steamid\", \"timestamp_created\", \"timestamp_updated\", \"voted_up\", \"votes_up\", \"votes_funny\", \"comment_count\", \"steam_purchase\", \"received_for_free\", \"written_during_early_access\"])\n",
    "df_cleaned.count()"
   ]
  },
  {
   "cell_type": "code",
   "execution_count": 17,
   "metadata": {},
   "outputs": [],
   "source": [
    "# df_cleaned.summary().show()"
   ]
  },
  {
   "cell_type": "code",
   "execution_count": 18,
   "metadata": {
    "colab": {
     "base_uri": "https://localhost:8080/"
    },
    "id": "f1IOMVc57zJD",
    "outputId": "f1d3a133-a801-43f2-9f91-7cc0fa9ac11f"
   },
   "outputs": [
    {
     "name": "stdout",
     "output_type": "stream",
     "text": [
      "+----------------+-----+--------------+-----------------+----------------------+------------------+-----------------------+------------------------------+-------------------------+------------------+---------+-----------------+-----------------+--------+--------+-----------+-------------------+-------------+--------------+-----------------+---------------------------+\n",
      "|recommendationid|appid|          game|   author_steamid|author_num_games_owned|author_num_reviews|author_playtime_forever|author_playtime_last_two_weeks|author_playtime_at_review|author_last_played| language|timestamp_created|timestamp_updated|voted_up|votes_up|votes_funny|weighted_vote_score|comment_count|steam_purchase|received_for_free|written_during_early_access|\n",
      "+----------------+-----+--------------+-----------------+----------------------+------------------+-----------------------+------------------------------+-------------------------+------------------+---------+-----------------+-----------------+--------+--------+-----------+-------------------+-------------+--------------+-----------------+---------------------------+\n",
      "|       148868716|   10|Counter-Strike|76561199488029638|                     0|                 1|                   6.85|                           230|        6.783333333333333|        1698276226|  spanish|       1698261406|       1698261406|       1|       0|          0|         0.47619048|            0|             1|                0|                          0|\n",
      "|       148868089|   10|Counter-Strike|76561197966981490|                     0|                 1|                2724.25|                            91|                  2724.25|        1698238558|brazilian|       1698260592|       1698260592|       1|       1|          0|         0.52380955|            0|             0|                0|                          0|\n",
      "|       148862089|   10|Counter-Strike|76561199479067349|                     5|                 6|     3.4833333333333334|                           200|       3.4833333333333334|        1697757761|  english|       1698253394|       1698253394|       1|       1|          0|         0.52380955|            0|             1|                0|                          0|\n",
      "|       148855799|   10|Counter-Strike|76561199093126476|                    44|                 3|                    6.6|                             0|                      6.6|        1695646111|  russian|       1698246469|       1698246469|       1|       1|          0|          0.5070422|            0|             1|                0|                          0|\n",
      "|       148855322|   10|Counter-Strike|76561199245208154|                     7|                 4|     11.166666666666666|                           583|       10.266666666666667|        1698249857|  russian|       1698245959|       1698245959|       1|       1|          0|          0.5070422|            0|             0|                0|                          0|\n",
      "|       148852243|   10|Counter-Strike|76561198411629175|                    11|                 2|     51.766666666666666|                             0|       51.766666666666666|        1684517984|  russian|       1698242601|       1698242601|       1|       1|          0|          0.5070422|            0|             1|                0|                          0|\n",
      "|       148851019|   10|Counter-Strike|76561198143459823|                   116|                 1|                   1.05|                            12|                     1.05|        1698099183|  english|       1698241327|       1698241327|       0|       4|          0|         0.53697985|            0|             1|                0|                          0|\n",
      "|       148850672|   10|Counter-Strike|76561198354806113|                    10|                 2|      56.56666666666667|                           232|       54.333333333333336|        1698337627|  english|       1698240929|       1698240929|       0|       0|          0|         0.43650794|            0|             1|                0|                          0|\n",
      "|       148848260|   10|Counter-Strike|76561198124399443|                     8|                 3|     15.866666666666667|                             6|       15.866666666666667|        1697995912|  russian|       1698237896|       1698237896|       1|       1|          0|          0.5070422|            0|             1|                0|                          0|\n",
      "|       148844981|   10|Counter-Strike|76561199160832303|                     0|                16|                   4.75|                            31|                     4.75|        1698233831|  russian|       1698233857|       1698233857|       0|       1|          0|          0.5070422|            0|             1|                0|                          0|\n",
      "+----------------+-----+--------------+-----------------+----------------------+------------------+-----------------------+------------------------------+-------------------------+------------------+---------+-----------------+-----------------+--------+--------+-----------+-------------------+-------------+--------------+-----------------+---------------------------+\n",
      "only showing top 10 rows\n",
      "\n"
     ]
    }
   ],
   "source": [
    "# Converting author playtime to hours\n",
    "df_cleaned = (\n",
    "    df_cleaned\n",
    "    .withColumn(\"author_playtime_forever\", F.col(\"author_playtime_forever\").cast(\"float\") / 60)\n",
    "    .withColumn(\"author_playtime_at_review\", F.col(\"author_playtime_at_review\").cast(\"float\") / 60)\n",
    ")\n",
    "\n",
    "df_cleaned.show(10)"
   ]
  },
  {
   "cell_type": "code",
   "execution_count": 19,
   "metadata": {
    "colab": {
     "base_uri": "https://localhost:8080/"
    },
    "id": "4uB_6FhG9VcC",
    "outputId": "dabff7d8-3a78-425a-9b36-5ac31e2dc337"
   },
   "outputs": [
    {
     "name": "stdout",
     "output_type": "stream",
     "text": [
      "+----------------+-----+--------------+-----------------+----------------------+------------------+-----------------------+------------------------------+-------------------------+------------------+---------+-----------------+-----------------+--------+--------+-----------+-------------------+-------------+--------------+-----------------+---------------------------+\n",
      "|recommendationid|appid|          game|   author_steamid|author_num_games_owned|author_num_reviews|author_playtime_forever|author_playtime_last_two_weeks|author_playtime_at_review|author_last_played| language|timestamp_created|timestamp_updated|voted_up|votes_up|votes_funny|weighted_vote_score|comment_count|steam_purchase|received_for_free|written_during_early_access|\n",
      "+----------------+-----+--------------+-----------------+----------------------+------------------+-----------------------+------------------------------+-------------------------+------------------+---------+-----------------+-----------------+--------+--------+-----------+-------------------+-------------+--------------+-----------------+---------------------------+\n",
      "|       148868716|   10|Counter-Strike|76561199488029638|                     0|                 1|                    7.0|                           230|                      7.0|        1698276226|  spanish|       1698261406|       1698261406|       1|       0|          0|         0.47619048|            0|             1|                0|                          0|\n",
      "|       148868089|   10|Counter-Strike|76561197966981490|                     0|                 1|                 2724.0|                            91|                   2724.0|        1698238558|brazilian|       1698260592|       1698260592|       1|       1|          0|         0.52380955|            0|             0|                0|                          0|\n",
      "|       148862089|   10|Counter-Strike|76561199479067349|                     5|                 6|                    3.0|                           200|                      3.0|        1697757761|  english|       1698253394|       1698253394|       1|       1|          0|         0.52380955|            0|             1|                0|                          0|\n",
      "|       148855799|   10|Counter-Strike|76561199093126476|                    44|                 3|                    7.0|                             0|                      7.0|        1695646111|  russian|       1698246469|       1698246469|       1|       1|          0|          0.5070422|            0|             1|                0|                          0|\n",
      "|       148855322|   10|Counter-Strike|76561199245208154|                     7|                 4|                   11.0|                           583|                     10.0|        1698249857|  russian|       1698245959|       1698245959|       1|       1|          0|          0.5070422|            0|             0|                0|                          0|\n",
      "|       148852243|   10|Counter-Strike|76561198411629175|                    11|                 2|                   52.0|                             0|                     52.0|        1684517984|  russian|       1698242601|       1698242601|       1|       1|          0|          0.5070422|            0|             1|                0|                          0|\n",
      "|       148851019|   10|Counter-Strike|76561198143459823|                   116|                 1|                    1.0|                            12|                      1.0|        1698099183|  english|       1698241327|       1698241327|       0|       4|          0|         0.53697985|            0|             1|                0|                          0|\n",
      "|       148850672|   10|Counter-Strike|76561198354806113|                    10|                 2|                   57.0|                           232|                     54.0|        1698337627|  english|       1698240929|       1698240929|       0|       0|          0|         0.43650794|            0|             1|                0|                          0|\n",
      "|       148848260|   10|Counter-Strike|76561198124399443|                     8|                 3|                   16.0|                             6|                     16.0|        1697995912|  russian|       1698237896|       1698237896|       1|       1|          0|          0.5070422|            0|             1|                0|                          0|\n",
      "|       148844981|   10|Counter-Strike|76561199160832303|                     0|                16|                    5.0|                            31|                      5.0|        1698233831|  russian|       1698233857|       1698233857|       0|       1|          0|          0.5070422|            0|             1|                0|                          0|\n",
      "+----------------+-----+--------------+-----------------+----------------------+------------------+-----------------------+------------------------------+-------------------------+------------------+---------+-----------------+-----------------+--------+--------+-----------+-------------------+-------------+--------------+-----------------+---------------------------+\n",
      "only showing top 10 rows\n",
      "\n"
     ]
    }
   ],
   "source": [
    "### Not necessary just thought it would make playtime cleaner ###\n",
    "\n",
    "# Round playtime to whole number\n",
    "\n",
    "df_cleaned = (\n",
    "    df_cleaned\n",
    "    .withColumn(\"author_playtime_forever\", F.round(F.col(\"author_playtime_forever\"), 0))\n",
    "    .withColumn(\"author_playtime_at_review\", F.round(F.col(\"author_playtime_at_review\"), 0))\n",
    ")\n",
    "\n",
    "df_cleaned.show(10)"
   ]
  },
  {
   "cell_type": "code",
   "execution_count": 20,
   "metadata": {},
   "outputs": [
    {
     "name": "stdout",
     "output_type": "stream",
     "text": [
      "Count of rows before: 37708777\n",
      "Count of rows after: 37708777\n"
     ]
    }
   ],
   "source": [
    "# Removing any duplicates (and counting) - long/expensive operation\n",
    "\n",
    "before = df_cleaned.count()\n",
    "df_cleaned = df_cleaned.dropDuplicates()\n",
    "after =df_cleaned.count()\n",
    "\n",
    "print(f\"Count of rows before: {before}\\nCount of rows after: {after}\")"
   ]
  },
  {
   "cell_type": "code",
   "execution_count": 21,
   "metadata": {},
   "outputs": [],
   "source": [
    "# Save cleaned dataframe\n",
    "df_cleaned.write.csv(\"/home/kphan/kphan/data/cleaned_data\", header=True)"
   ]
  },
  {
   "cell_type": "code",
   "execution_count": 22,
   "metadata": {},
   "outputs": [],
   "source": [
    "spark.stop()"
   ]
  },
  {
   "cell_type": "markdown",
   "metadata": {},
   "source": [
    "## Visualizations for Playtime\n",
    "\n",
    "Moved to separate notebook"
   ]
  },
  {
   "cell_type": "code",
   "execution_count": 23,
   "metadata": {},
   "outputs": [],
   "source": [
    "# # Bar graph which games have the most play time (of reviews)\n",
    "\n",
    "# # Looking to represent playtime statistics for each game\n",
    "\n",
    "# total_playtimes = (\n",
    "#     df_cleaned.groupBy(\"game\")\n",
    "#     .agg(F.sum(\"author_playtime_at_review\").alias(\"Total Reviewer Playtime (At time of review)\"), F.count(\"*\").alias(\"Review Count\"))\n",
    "#     .withColumn(\"Average Playtime Per Review\", F.round(F.col(\"Total Reviewer Playtime (At time of review)\") / F.col(\"Review Count\")))\n",
    "# )\n",
    "\n",
    "# total_playtimes.show()"
   ]
  },
  {
   "cell_type": "code",
   "execution_count": 24,
   "metadata": {},
   "outputs": [],
   "source": [
    "# # Conversion of aggregated table to Pandas for visualization\n",
    "# top_10_reviewer_playtimes_df = total_playtimes.orderBy(F.col(\"Total Reviewer Playtime (At time of review)\").desc()).limit(10).toPandas()\n",
    "# top_10_review_count_df = total_playtimes.orderBy(F.col(\"Review Count\").desc()).limit(10).toPandas()"
   ]
  },
  {
   "cell_type": "code",
   "execution_count": 25,
   "metadata": {},
   "outputs": [],
   "source": [
    "# top_10_reviewer_playtimes_df"
   ]
  },
  {
   "cell_type": "code",
   "execution_count": 26,
   "metadata": {},
   "outputs": [],
   "source": [
    "# top_10_review_count_df"
   ]
  },
  {
   "cell_type": "code",
   "execution_count": 27,
   "metadata": {},
   "outputs": [],
   "source": [
    "# # Bargraph of top 10 games with the most total playtime per reviewer, top 10 games with most reviews\n",
    "# # Omitting stats on average playtime per review as would be skewed towards games with fewer reviews\n",
    "\n",
    "# fig, axes = plt.subplots(2,1,figsize = (6,12))\n",
    "\n",
    "# # Plot 1: Top 10 games with the most total playtime per reviewer\n",
    "# sns.barplot(\n",
    "#     y = top_10_reviewer_playtimes_df[\"game\"],\n",
    "#     x = top_10_reviewer_playtimes_df[\"Total Reviewer Playtime (At time of review)\"],\n",
    "#     ax = axes[0],\n",
    "#     palette = \"rocket\",\n",
    "#     orient = \"h\"\n",
    "# )\n",
    "# axes[0].set_title(\"Top 10 Games with Highest Playtime of Reviewers\")\n",
    "# axes[0].set_ylabel(\"Game Title\")\n",
    "# axes[0].set_xlabel(\"Playtime (Hours)\")\n",
    "# for container in axes[0].containers:\n",
    "#   axes[0].bar_label(container, fmt='%.1f')\n",
    "\n",
    "# # Plot 2: Top 10 games with most reviews\n",
    "# sns.barplot(\n",
    "#     y = top_10_review_count_df[\"game\"],\n",
    "#     x = top_10_review_count_df[\"Review Count\"],\n",
    "#     ax = axes[1],\n",
    "#     palette = \"rocket\", \n",
    "#     orient = \"h\"\n",
    "# )\n",
    "# axes[1].set_title(\"Top 10 Games with the Most Reviews\")\n",
    "# axes[1].set_ylabel(\"Game Title\")\n",
    "# axes[1].set_xlabel(\"Review Count\")\n",
    "# for container in axes[1].containers:\n",
    "#   axes[1].bar_label(container, fmt='%.1f')\n",
    "\n",
    "# plt.show()"
   ]
  },
  {
   "cell_type": "markdown",
   "metadata": {},
   "source": [
    "## Visualizations - Scatter Plots"
   ]
  },
  {
   "cell_type": "code",
   "execution_count": 28,
   "metadata": {},
   "outputs": [],
   "source": [
    "# # Curious to see if there is a pattern regarding playtime and weighted vote score\n",
    "\n",
    "# playtime_votescore_df = df_cleaned.select(\"weighted_vote_score\", \"author_playtime_at_review\").toPandas()"
   ]
  },
  {
   "cell_type": "code",
   "execution_count": 29,
   "metadata": {},
   "outputs": [],
   "source": [
    "# sns.scatterplot(\n",
    "#     data = playtime_votescore_df,\n",
    "#     y = \"weighted_vote_score\",\n",
    "#     x = \"author_playtime_at_review\"\n",
    "# )\n",
    "\n",
    "# plt.title(\"Scatterplot of Author Playtime at Review vs Weighted Vote Score\")\n",
    "# plt.ylabel(\"Weighted Vote Score (Steam metric)\")\n",
    "# plt.xlabel(\"Author Playtime At Review (hours)\")\n",
    "\n",
    "# plt.show()"
   ]
  }
 ],
 "metadata": {
  "colab": {
   "provenance": []
  },
  "kernelspec": {
   "display_name": "Python 3 (ipykernel)",
   "language": "python",
   "name": "python3"
  },
  "language_info": {
   "codemirror_mode": {
    "name": "ipython",
    "version": 3
   },
   "file_extension": ".py",
   "mimetype": "text/x-python",
   "name": "python",
   "nbconvert_exporter": "python",
   "pygments_lexer": "ipython3",
   "version": "3.11.6"
  }
 },
 "nbformat": 4,
 "nbformat_minor": 4
}
